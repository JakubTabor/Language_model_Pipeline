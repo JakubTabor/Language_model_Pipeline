{
  "cells": [
    {
      "cell_type": "code",
      "execution_count": 3,
      "metadata": {
        "id": "2v5rIOQ85jHM"
      },
      "outputs": [],
      "source": [
        "import pandas as pd\n"
      ]
    },
    {
      "cell_type": "code",
      "execution_count": 4,
      "metadata": {
        "colab": {
          "base_uri": "https://localhost:8080/",
          "height": 206
        },
        "id": "6qngPwqx5pUZ",
        "outputId": "37fae1dc-8a96-4ba1-9306-b49fbf90fcb6"
      },
      "outputs": [
        {
          "data": {
            "text/html": [
              "<div>\n",
              "<style scoped>\n",
              "    .dataframe tbody tr th:only-of-type {\n",
              "        vertical-align: middle;\n",
              "    }\n",
              "\n",
              "    .dataframe tbody tr th {\n",
              "        vertical-align: top;\n",
              "    }\n",
              "\n",
              "    .dataframe thead th {\n",
              "        text-align: right;\n",
              "    }\n",
              "</style>\n",
              "<table border=\"1\" class=\"dataframe\">\n",
              "  <thead>\n",
              "    <tr style=\"text-align: right;\">\n",
              "      <th></th>\n",
              "      <th>text</th>\n",
              "      <th>category</th>\n",
              "    </tr>\n",
              "  </thead>\n",
              "  <tbody>\n",
              "    <tr>\n",
              "      <th>0</th>\n",
              "      <td>Larry Nassar Blames His Victims, Says He 'Was ...</td>\n",
              "      <td>CRIME</td>\n",
              "    </tr>\n",
              "    <tr>\n",
              "      <th>1</th>\n",
              "      <td>Woman Beats Cancer, Dies Falling From Horse</td>\n",
              "      <td>CRIME</td>\n",
              "    </tr>\n",
              "    <tr>\n",
              "      <th>2</th>\n",
              "      <td>Vegas Taxpayers Could Spend A Record $750 Mill...</td>\n",
              "      <td>SPORTS</td>\n",
              "    </tr>\n",
              "    <tr>\n",
              "      <th>3</th>\n",
              "      <td>This Richard Sherman Interception Literally Sh...</td>\n",
              "      <td>SPORTS</td>\n",
              "    </tr>\n",
              "    <tr>\n",
              "      <th>4</th>\n",
              "      <td>7 Things That Could Totally Kill Weed Legaliza...</td>\n",
              "      <td>BUSINESS</td>\n",
              "    </tr>\n",
              "  </tbody>\n",
              "</table>\n",
              "</div>"
            ],
            "text/plain": [
              "                                                text  category\n",
              "0  Larry Nassar Blames His Victims, Says He 'Was ...     CRIME\n",
              "1       Woman Beats Cancer, Dies Falling From Horse      CRIME\n",
              "2  Vegas Taxpayers Could Spend A Record $750 Mill...    SPORTS\n",
              "3  This Richard Sherman Interception Literally Sh...    SPORTS\n",
              "4  7 Things That Could Totally Kill Weed Legaliza...  BUSINESS"
            ]
          },
          "execution_count": 4,
          "metadata": {},
          "output_type": "execute_result"
        }
      ],
      "source": [
        "df = pd.read_json('news_dataset (1).json')\n",
        "df.head()"
      ]
    },
    {
      "cell_type": "code",
      "execution_count": 5,
      "metadata": {},
      "outputs": [
        {
          "data": {
            "text/plain": [
              "(7500, 2)"
            ]
          },
          "execution_count": 5,
          "metadata": {},
          "output_type": "execute_result"
        }
      ],
      "source": [
        "df.shape"
      ]
    },
    {
      "cell_type": "code",
      "execution_count": 6,
      "metadata": {},
      "outputs": [
        {
          "data": {
            "text/plain": [
              "category\n",
              "CRIME       2500\n",
              "SPORTS      2500\n",
              "BUSINESS    2500\n",
              "Name: count, dtype: int64"
            ]
          },
          "execution_count": 6,
          "metadata": {},
          "output_type": "execute_result"
        }
      ],
      "source": [
        "df['category'].value_counts()"
      ]
    },
    {
      "cell_type": "code",
      "execution_count": 7,
      "metadata": {},
      "outputs": [
        {
          "data": {
            "text/html": [
              "<div>\n",
              "<style scoped>\n",
              "    .dataframe tbody tr th:only-of-type {\n",
              "        vertical-align: middle;\n",
              "    }\n",
              "\n",
              "    .dataframe tbody tr th {\n",
              "        vertical-align: top;\n",
              "    }\n",
              "\n",
              "    .dataframe thead th {\n",
              "        text-align: right;\n",
              "    }\n",
              "</style>\n",
              "<table border=\"1\" class=\"dataframe\">\n",
              "  <thead>\n",
              "    <tr style=\"text-align: right;\">\n",
              "      <th></th>\n",
              "      <th>text</th>\n",
              "      <th>category</th>\n",
              "      <th>label_num</th>\n",
              "    </tr>\n",
              "  </thead>\n",
              "  <tbody>\n",
              "    <tr>\n",
              "      <th>6928</th>\n",
              "      <td>Patriots QB Tom Brady After Super Bowl Loss: '...</td>\n",
              "      <td>SPORTS</td>\n",
              "      <td>1</td>\n",
              "    </tr>\n",
              "    <tr>\n",
              "      <th>7169</th>\n",
              "      <td>Mom Faces 15 More Years In Prison For Failing ...</td>\n",
              "      <td>CRIME</td>\n",
              "      <td>0</td>\n",
              "    </tr>\n",
              "    <tr>\n",
              "      <th>7285</th>\n",
              "      <td>Suit Accuses Milwaukee Sheriff Of Abuse Of Pow...</td>\n",
              "      <td>CRIME</td>\n",
              "      <td>0</td>\n",
              "    </tr>\n",
              "    <tr>\n",
              "      <th>5204</th>\n",
              "      <td>Is It Better To Buy Or Rent?</td>\n",
              "      <td>BUSINESS</td>\n",
              "      <td>2</td>\n",
              "    </tr>\n",
              "    <tr>\n",
              "      <th>1406</th>\n",
              "      <td>'Living Wills' For Five Big Banks Fail U.S. Re...</td>\n",
              "      <td>BUSINESS</td>\n",
              "      <td>2</td>\n",
              "    </tr>\n",
              "    <tr>\n",
              "      <th>2144</th>\n",
              "      <td>NYPD Releases 911 Transcripts, Footage Of Sahe...</td>\n",
              "      <td>CRIME</td>\n",
              "      <td>0</td>\n",
              "    </tr>\n",
              "    <tr>\n",
              "      <th>3360</th>\n",
              "      <td>Ex-Mayor Kills Wife In 'Final Act Of Love'</td>\n",
              "      <td>CRIME</td>\n",
              "      <td>0</td>\n",
              "    </tr>\n",
              "  </tbody>\n",
              "</table>\n",
              "</div>"
            ],
            "text/plain": [
              "                                                   text  category  label_num\n",
              "6928  Patriots QB Tom Brady After Super Bowl Loss: '...    SPORTS          1\n",
              "7169  Mom Faces 15 More Years In Prison For Failing ...     CRIME          0\n",
              "7285  Suit Accuses Milwaukee Sheriff Of Abuse Of Pow...     CRIME          0\n",
              "5204                      Is It Better To Buy Or Rent?   BUSINESS          2\n",
              "1406  'Living Wills' For Five Big Banks Fail U.S. Re...  BUSINESS          2\n",
              "2144  NYPD Releases 911 Transcripts, Footage Of Sahe...     CRIME          0\n",
              "3360        Ex-Mayor Kills Wife In 'Final Act Of Love'      CRIME          0"
            ]
          },
          "execution_count": 7,
          "metadata": {},
          "output_type": "execute_result"
        }
      ],
      "source": [
        "df['label_num'] = df['category'].map({'CRIME' : 0, 'SPORTS' : 1, 'BUSINESS' : 2})\n",
        "df.sample(7)"
      ]
    },
    {
      "cell_type": "code",
      "execution_count": 8,
      "metadata": {},
      "outputs": [],
      "source": [
        "import spacy\n",
        "\n",
        "nlp = spacy.load(\"en_core_web_lg\")\n",
        "\n",
        "def preprocess(text):\n",
        "    doc = nlp(text)\n",
        "    \n",
        "    filtered_tokens = []\n",
        "    \n",
        "    for token in doc:\n",
        "        if token.is_stop or token.is_punct:\n",
        "            continue\n",
        "        filtered_tokens.append(token.lemma_)\n",
        "    return \" \".join(filtered_tokens)\n",
        "    "
      ]
    },
    {
      "cell_type": "code",
      "execution_count": 9,
      "metadata": {},
      "outputs": [],
      "source": [
        "df['preprocessed_text'] = df['text'].apply(lambda text : preprocess(text))"
      ]
    },
    {
      "cell_type": "code",
      "execution_count": 10,
      "metadata": {},
      "outputs": [
        {
          "data": {
            "text/html": [
              "<div>\n",
              "<style scoped>\n",
              "    .dataframe tbody tr th:only-of-type {\n",
              "        vertical-align: middle;\n",
              "    }\n",
              "\n",
              "    .dataframe tbody tr th {\n",
              "        vertical-align: top;\n",
              "    }\n",
              "\n",
              "    .dataframe thead th {\n",
              "        text-align: right;\n",
              "    }\n",
              "</style>\n",
              "<table border=\"1\" class=\"dataframe\">\n",
              "  <thead>\n",
              "    <tr style=\"text-align: right;\">\n",
              "      <th></th>\n",
              "      <th>text</th>\n",
              "      <th>category</th>\n",
              "      <th>label_num</th>\n",
              "      <th>preprocessed_text</th>\n",
              "    </tr>\n",
              "  </thead>\n",
              "  <tbody>\n",
              "    <tr>\n",
              "      <th>1550</th>\n",
              "      <td>Mercy Over Vengeance for Dzhokhar Tsarnaev We ...</td>\n",
              "      <td>CRIME</td>\n",
              "      <td>0</td>\n",
              "      <td>mercy Vengeance Dzhokhar Tsarnaev Boston Stron...</td>\n",
              "    </tr>\n",
              "    <tr>\n",
              "      <th>2516</th>\n",
              "      <td>Ravens Take Out Rival Steelers In Playoff Grud...</td>\n",
              "      <td>SPORTS</td>\n",
              "      <td>1</td>\n",
              "      <td>raven rival Steelers Playoff Grudge Match</td>\n",
              "    </tr>\n",
              "    <tr>\n",
              "      <th>859</th>\n",
              "      <td>Drunk Man Incites Panic After Jumping On Bar A...</td>\n",
              "      <td>CRIME</td>\n",
              "      <td>0</td>\n",
              "      <td>drunk man Incites Panic jump Bar praise Allah ...</td>\n",
              "    </tr>\n",
              "    <tr>\n",
              "      <th>1495</th>\n",
              "      <td>911 Call: Police Chief Tries To Explain How He...</td>\n",
              "      <td>CRIME</td>\n",
              "      <td>0</td>\n",
              "      <td>911 Police chief try explain shot wife</td>\n",
              "    </tr>\n",
              "    <tr>\n",
              "      <th>7094</th>\n",
              "      <td>Children's Bodies Found In Freezer, Mother Arr...</td>\n",
              "      <td>CRIME</td>\n",
              "      <td>0</td>\n",
              "      <td>child body find Freezer Mother arrest</td>\n",
              "    </tr>\n",
              "    <tr>\n",
              "      <th>6865</th>\n",
              "      <td>Is Your Business Ready for the World's Emergin...</td>\n",
              "      <td>BUSINESS</td>\n",
              "      <td>2</td>\n",
              "      <td>business Ready World emerge Middle Class time ...</td>\n",
              "    </tr>\n",
              "    <tr>\n",
              "      <th>5959</th>\n",
              "      <td>This PSA Will Be The First To Address Domestic...</td>\n",
              "      <td>SPORTS</td>\n",
              "      <td>1</td>\n",
              "      <td>PSA address Domestic violence Super Bowl hard ...</td>\n",
              "    </tr>\n",
              "  </tbody>\n",
              "</table>\n",
              "</div>"
            ],
            "text/plain": [
              "                                                   text  category  label_num  \\\n",
              "1550  Mercy Over Vengeance for Dzhokhar Tsarnaev We ...     CRIME          0   \n",
              "2516  Ravens Take Out Rival Steelers In Playoff Grud...    SPORTS          1   \n",
              "859   Drunk Man Incites Panic After Jumping On Bar A...     CRIME          0   \n",
              "1495  911 Call: Police Chief Tries To Explain How He...     CRIME          0   \n",
              "7094  Children's Bodies Found In Freezer, Mother Arr...     CRIME          0   \n",
              "6865  Is Your Business Ready for the World's Emergin...  BUSINESS          2   \n",
              "5959  This PSA Will Be The First To Address Domestic...    SPORTS          1   \n",
              "\n",
              "                                      preprocessed_text  \n",
              "1550  mercy Vengeance Dzhokhar Tsarnaev Boston Stron...  \n",
              "2516          raven rival Steelers Playoff Grudge Match  \n",
              "859   drunk man Incites Panic jump Bar praise Allah ...  \n",
              "1495             911 Police chief try explain shot wife  \n",
              "7094              child body find Freezer Mother arrest  \n",
              "6865  business Ready World emerge Middle Class time ...  \n",
              "5959  PSA address Domestic violence Super Bowl hard ...  "
            ]
          },
          "execution_count": 10,
          "metadata": {},
          "output_type": "execute_result"
        }
      ],
      "source": [
        "df.sample(7)"
      ]
    },
    {
      "cell_type": "code",
      "execution_count": 11,
      "metadata": {},
      "outputs": [],
      "source": [
        "df['vector'] = df['preprocessed_text'].apply(lambda text : nlp(text).vector)"
      ]
    },
    {
      "cell_type": "code",
      "execution_count": 12,
      "metadata": {},
      "outputs": [
        {
          "data": {
            "text/html": [
              "<div>\n",
              "<style scoped>\n",
              "    .dataframe tbody tr th:only-of-type {\n",
              "        vertical-align: middle;\n",
              "    }\n",
              "\n",
              "    .dataframe tbody tr th {\n",
              "        vertical-align: top;\n",
              "    }\n",
              "\n",
              "    .dataframe thead th {\n",
              "        text-align: right;\n",
              "    }\n",
              "</style>\n",
              "<table border=\"1\" class=\"dataframe\">\n",
              "  <thead>\n",
              "    <tr style=\"text-align: right;\">\n",
              "      <th></th>\n",
              "      <th>text</th>\n",
              "      <th>category</th>\n",
              "      <th>label_num</th>\n",
              "      <th>preprocessed_text</th>\n",
              "      <th>vector</th>\n",
              "    </tr>\n",
              "  </thead>\n",
              "  <tbody>\n",
              "    <tr>\n",
              "      <th>3557</th>\n",
              "      <td>Drunk Driver Found Hiding In Nativity Scene Af...</td>\n",
              "      <td>CRIME</td>\n",
              "      <td>0</td>\n",
              "      <td>Drunk Driver Found hide Nativity Scene crash c...</td>\n",
              "      <td>[1.0297555, 0.90865594, -0.3592547, 0.18292865...</td>\n",
              "    </tr>\n",
              "    <tr>\n",
              "      <th>5636</th>\n",
              "      <td>Mississippi Defeats Oklahoma State 48-20 In Su...</td>\n",
              "      <td>SPORTS</td>\n",
              "      <td>1</td>\n",
              "      <td>Mississippi defeat Oklahoma State 48 20 Sugar ...</td>\n",
              "      <td>[-1.7397544, -0.6148272, 0.19426133, 0.9116609...</td>\n",
              "    </tr>\n",
              "    <tr>\n",
              "      <th>4716</th>\n",
              "      <td>Killing Spree Ends In Deadly Motel Standoff Su...</td>\n",
              "      <td>CRIME</td>\n",
              "      <td>0</td>\n",
              "      <td>kill Spree Ends Deadly Motel Standoff suspect ...</td>\n",
              "      <td>[-1.8924774, -0.44492227, -2.359817, 0.2332677...</td>\n",
              "    </tr>\n",
              "    <tr>\n",
              "      <th>3713</th>\n",
              "      <td>Bethany Hamilton Pulls Off Huge Upset In Fiji ...</td>\n",
              "      <td>SPORTS</td>\n",
              "      <td>1</td>\n",
              "      <td>Bethany Hamilton pull Huge Upset Fiji Surf Com...</td>\n",
              "      <td>[0.027386606, 0.28375313, -0.62683934, -0.2921...</td>\n",
              "    </tr>\n",
              "    <tr>\n",
              "      <th>6793</th>\n",
              "      <td>New York Giants Clean House, Fire Coach Ben Mc...</td>\n",
              "      <td>SPORTS</td>\n",
              "      <td>1</td>\n",
              "      <td>New York Giants Clean House Fire Coach Ben McA...</td>\n",
              "      <td>[-1.3931675, 0.97714186, 0.24648996, 2.6994827...</td>\n",
              "    </tr>\n",
              "    <tr>\n",
              "      <th>6515</th>\n",
              "      <td>United Airlines Defends Right To Block Girls I...</td>\n",
              "      <td>BUSINESS</td>\n",
              "      <td>2</td>\n",
              "      <td>United Airlines defend Right block girl leggin...</td>\n",
              "      <td>[-0.47782472, 1.4337555, -0.97270954, -0.44647...</td>\n",
              "    </tr>\n",
              "    <tr>\n",
              "      <th>7372</th>\n",
              "      <td>President Mistakes 'Jeffersons' For Sanford &amp; ...</td>\n",
              "      <td>CRIME</td>\n",
              "      <td>0</td>\n",
              "      <td>President mistake jefferson Sanford Sons crime...</td>\n",
              "      <td>[-1.001601, -0.610992, -1.3284991, 0.91564685,...</td>\n",
              "    </tr>\n",
              "  </tbody>\n",
              "</table>\n",
              "</div>"
            ],
            "text/plain": [
              "                                                   text  category  label_num  \\\n",
              "3557  Drunk Driver Found Hiding In Nativity Scene Af...     CRIME          0   \n",
              "5636  Mississippi Defeats Oklahoma State 48-20 In Su...    SPORTS          1   \n",
              "4716  Killing Spree Ends In Deadly Motel Standoff Su...     CRIME          0   \n",
              "3713  Bethany Hamilton Pulls Off Huge Upset In Fiji ...    SPORTS          1   \n",
              "6793  New York Giants Clean House, Fire Coach Ben Mc...    SPORTS          1   \n",
              "6515  United Airlines Defends Right To Block Girls I...  BUSINESS          2   \n",
              "7372  President Mistakes 'Jeffersons' For Sanford & ...     CRIME          0   \n",
              "\n",
              "                                      preprocessed_text  \\\n",
              "3557  Drunk Driver Found hide Nativity Scene crash c...   \n",
              "5636  Mississippi defeat Oklahoma State 48 20 Sugar ...   \n",
              "4716  kill Spree Ends Deadly Motel Standoff suspect ...   \n",
              "3713  Bethany Hamilton pull Huge Upset Fiji Surf Com...   \n",
              "6793  New York Giants Clean House Fire Coach Ben McA...   \n",
              "6515  United Airlines defend Right block girl leggin...   \n",
              "7372  President mistake jefferson Sanford Sons crime...   \n",
              "\n",
              "                                                 vector  \n",
              "3557  [1.0297555, 0.90865594, -0.3592547, 0.18292865...  \n",
              "5636  [-1.7397544, -0.6148272, 0.19426133, 0.9116609...  \n",
              "4716  [-1.8924774, -0.44492227, -2.359817, 0.2332677...  \n",
              "3713  [0.027386606, 0.28375313, -0.62683934, -0.2921...  \n",
              "6793  [-1.3931675, 0.97714186, 0.24648996, 2.6994827...  \n",
              "6515  [-0.47782472, 1.4337555, -0.97270954, -0.44647...  \n",
              "7372  [-1.001601, -0.610992, -1.3284991, 0.91564685,...  "
            ]
          },
          "execution_count": 12,
          "metadata": {},
          "output_type": "execute_result"
        }
      ],
      "source": [
        "df.sample(7)"
      ]
    },
    {
      "cell_type": "code",
      "execution_count": 13,
      "metadata": {},
      "outputs": [],
      "source": [
        "from sklearn.model_selection import train_test_split\n",
        "\n",
        "X_train, X_test, y_train, y_test = train_test_split(df.vector.values, df.label_num, test_size = 0.2, random_state = 0, stratify = df.label_num)"
      ]
    },
    {
      "cell_type": "code",
      "execution_count": 14,
      "metadata": {},
      "outputs": [
        {
          "name": "stdout",
          "output_type": "stream",
          "text": [
            "Shape of X_train: (6000,)\n",
            "Shape of X_test: (1500,)\n",
            "Shape of X_train_2d: (6000, 300)\n",
            "Shape of X_test_2d: (1500, 300)\n"
          ]
        }
      ],
      "source": [
        "import numpy as np\n",
        "\n",
        "print(\"Shape of X_train:\", X_train.shape)\n",
        "print(\"Shape of X_test:\", X_test.shape)\n",
        "\n",
        "X_train_2d = np.stack(X_train)\n",
        "X_test_2d = np.stack(X_test)\n",
        "\n",
        "print(\"Shape of X_train_2d:\", X_train_2d.shape)\n",
        "print(\"Shape of X_test_2d:\", X_test_2d.shape)\n",
        "\n",
        "# We can see that shape is changed after stacking into 2 dimension"
      ]
    },
    {
      "cell_type": "code",
      "execution_count": 15,
      "metadata": {},
      "outputs": [
        {
          "name": "stdout",
          "output_type": "stream",
          "text": [
            "              precision    recall  f1-score   support\n",
            "\n",
            "           0       0.69      0.73      0.71       500\n",
            "           1       0.68      0.67      0.68       500\n",
            "           2       0.74      0.71      0.72       500\n",
            "\n",
            "    accuracy                           0.70      1500\n",
            "   macro avg       0.70      0.70      0.70      1500\n",
            "weighted avg       0.70      0.70      0.70      1500\n",
            "\n"
          ]
        }
      ],
      "source": [
        "from sklearn.metrics import classification_report\n",
        "from sklearn.tree import DecisionTreeClassifier\n",
        "\n",
        "clf = DecisionTreeClassifier()\n",
        "\n",
        "clf.fit(X_train_2d, y_train)\n",
        "\n",
        "y_pred = clf.predict(X_test_2d)\n",
        "\n",
        "print(classification_report(y_test, y_pred)) # It not performace good"
      ]
    },
    {
      "cell_type": "code",
      "execution_count": 16,
      "metadata": {},
      "outputs": [
        {
          "data": {
            "text/plain": [
              "array([[0.47060537, 0.6310417 , 0.4864019 , ..., 0.4436961 , 0.3995322 ,\n",
              "        0.4833013 ],\n",
              "       [0.27514285, 0.58155274, 0.5677416 , ..., 0.5328328 , 0.7313219 ,\n",
              "        0.4171639 ],\n",
              "       [0.4474647 , 0.52827746, 0.7317188 , ..., 0.2778678 , 0.5085933 ,\n",
              "        0.5528551 ],\n",
              "       ...,\n",
              "       [0.68387926, 0.57122296, 0.6929968 , ..., 0.5206609 , 0.46906167,\n",
              "        0.48677352],\n",
              "       [0.4679039 , 0.5237271 , 0.6746307 , ..., 0.33384436, 0.48794493,\n",
              "        0.40904918],\n",
              "       [0.40028498, 0.35901105, 0.5818153 , ..., 0.42283002, 0.65643877,\n",
              "        0.4298824 ]], dtype=float32)"
            ]
          },
          "execution_count": 16,
          "metadata": {},
          "output_type": "execute_result"
        }
      ],
      "source": [
        "from sklearn.naive_bayes import MultinomialNB\n",
        "from sklearn.preprocessing import MinMaxScaler # We need to scale our values into positive range \n",
        "\n",
        "sc = MinMaxScaler()\n",
        "scaled_train_embed = sc.fit_transform(X_train_2d)\n",
        "scaled_test_embed = sc.transform(X_test_2d)\n",
        "\n",
        "scaled_train_embed"
      ]
    },
    {
      "cell_type": "code",
      "execution_count": 17,
      "metadata": {},
      "outputs": [
        {
          "name": "stdout",
          "output_type": "stream",
          "text": [
            "              precision    recall  f1-score   support\n",
            "\n",
            "           0       0.84      0.88      0.86       500\n",
            "           1       0.86      0.77      0.81       500\n",
            "           2       0.79      0.84      0.81       500\n",
            "\n",
            "    accuracy                           0.83      1500\n",
            "   macro avg       0.83      0.83      0.83      1500\n",
            "weighted avg       0.83      0.83      0.83      1500\n",
            "\n"
          ]
        }
      ],
      "source": [
        "clf = MultinomialNB()\n",
        "\n",
        "clf.fit(scaled_train_embed, y_train)\n",
        "\n",
        "y_pred = clf.predict(scaled_test_embed)\n",
        "\n",
        "print(classification_report(y_test, y_pred)) # Now we can see improvement in perforamnce"
      ]
    },
    {
      "cell_type": "code",
      "execution_count": 18,
      "metadata": {},
      "outputs": [
        {
          "name": "stdout",
          "output_type": "stream",
          "text": [
            "              precision    recall  f1-score   support\n",
            "\n",
            "           0       0.79      0.93      0.86       500\n",
            "           1       0.91      0.82      0.86       500\n",
            "           2       0.90      0.84      0.87       500\n",
            "\n",
            "    accuracy                           0.86      1500\n",
            "   macro avg       0.87      0.86      0.86      1500\n",
            "weighted avg       0.87      0.86      0.86      1500\n",
            "\n"
          ]
        }
      ],
      "source": [
        "from sklearn.neighbors import KNeighborsClassifier\n",
        "\n",
        "clf = KNeighborsClassifier(n_neighbors = 5, metric = 'euclidean')\n",
        "\n",
        "clf.fit(X_train_2d, y_train)\n",
        "\n",
        "y_pred = clf.predict(X_test_2d)\n",
        "\n",
        "print(classification_report(y_test, y_pred)) # With KNN we can see even better performance"
      ]
    },
    {
      "cell_type": "code",
      "execution_count": 19,
      "metadata": {},
      "outputs": [
        {
          "name": "stdout",
          "output_type": "stream",
          "text": [
            "              precision    recall  f1-score   support\n",
            "\n",
            "           0       0.86      0.90      0.88       500\n",
            "           1       0.88      0.85      0.86       500\n",
            "           2       0.88      0.86      0.87       500\n",
            "\n",
            "    accuracy                           0.87      1500\n",
            "   macro avg       0.87      0.87      0.87      1500\n",
            "weighted avg       0.87      0.87      0.87      1500\n",
            "\n"
          ]
        }
      ],
      "source": [
        "from sklearn.ensemble import RandomForestClassifier\n",
        "\n",
        "clf = RandomForestClassifier()\n",
        "\n",
        "clf.fit(X_train_2d, y_train)\n",
        "\n",
        "y_pred = clf.predict(X_test_2d)\n",
        "\n",
        "print(classification_report(y_test, y_pred))"
      ]
    },
    {
      "cell_type": "code",
      "execution_count": 20,
      "metadata": {},
      "outputs": [
        {
          "name": "stdout",
          "output_type": "stream",
          "text": [
            "              precision    recall  f1-score   support\n",
            "\n",
            "           0       0.88      0.91      0.90       500\n",
            "           1       0.90      0.87      0.89       500\n",
            "           2       0.90      0.89      0.90       500\n",
            "\n",
            "    accuracy                           0.89      1500\n",
            "   macro avg       0.89      0.89      0.89      1500\n",
            "weighted avg       0.89      0.89      0.89      1500\n",
            "\n"
          ]
        }
      ],
      "source": [
        "from sklearn.ensemble import GradientBoostingClassifier\n",
        "\n",
        "clf = GradientBoostingClassifier()\n",
        "\n",
        "clf.fit(X_train_2d, y_train)\n",
        "\n",
        "y_pred = clf.predict(X_test_2d)\n",
        "\n",
        "print(classification_report(y_test, y_pred))"
      ]
    },
    {
      "cell_type": "code",
      "execution_count": 21,
      "metadata": {},
      "outputs": [
        {
          "data": {
            "text/plain": [
              "array([[457,  23,  20],\n",
              "       [ 36, 437,  27],\n",
              "       [ 28,  25, 447]], dtype=int64)"
            ]
          },
          "execution_count": 21,
          "metadata": {},
          "output_type": "execute_result"
        }
      ],
      "source": [
        "from sklearn.metrics import confusion_matrix\n",
        "\n",
        "cm = confusion_matrix(y_test, y_pred)\n",
        "cm"
      ]
    },
    {
      "cell_type": "code",
      "execution_count": 22,
      "metadata": {},
      "outputs": [
        {
          "data": {
            "text/plain": [
              "Text(95.72222222222221, 0.5, 'Truth')"
            ]
          },
          "execution_count": 22,
          "metadata": {},
          "output_type": "execute_result"
        },
        {
          "data": {
            "image/png": "[encoded data removed]",
            "text/plain": [
              "<Figure size 1000x700 with 2 Axes>"
            ]
          },
          "metadata": {},
          "output_type": "display_data"
        }
      ],
      "source": [
        "from matplotlib import pyplot as plt\n",
        "import seaborn as sn\n",
        "\n",
        "plt.figure(figsize = (10, 7))\n",
        "sn.heatmap(cm, annot = True, fmt = 'd')\n",
        "plt.xlabel('Prediction')\n",
        "plt.ylabel('Truth')"
      ]
    }
  ],
  "metadata": {
    "colab": {
      "provenance": []
    },
    "kernelspec": {
      "display_name": "Python 3",
      "name": "python3"
    },
    "language_info": {
      "codemirror_mode": {
        "name": "ipython",
        "version": 3
      },
      "file_extension": ".py",
      "mimetype": "text/x-python",
      "name": "python",
      "nbconvert_exporter": "python",
      "pygments_lexer": "ipython3",
      "version": "3.10.9"
    }
  },
  "nbformat": 4,
  "nbformat_minor": 0
}
